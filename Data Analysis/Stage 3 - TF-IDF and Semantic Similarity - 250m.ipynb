{
 "cells": [
  {
   "cell_type": "markdown",
   "id": "objective-portal",
   "metadata": {},
   "source": [
    "This is a very useful guide into TF-IDF calculation and K-means clustering using Sci-Kit Learn:\n",
    "\n",
    "https://jonathansoma.com/lede/algorithms-2017/classes/clustering/k-means-clustering-with-scikit-learn/"
   ]
  },
  {
   "cell_type": "code",
   "execution_count": 2,
   "id": "incorporate-triangle",
   "metadata": {},
   "outputs": [],
   "source": [
    "import numpy as np\n",
    "import pandas as pd\n",
    "from sklearn.metrics.pairwise import linear_kernel\n",
    "from sklearn.feature_extraction.text import TfidfVectorizer #SciKit-Learn Machine Learning Library\n",
    "from sklearn.metrics.pairwise import cosine_similarity\n",
    "from scipy import sparse\n",
    "from sklearn.cluster import KMeans\n",
    "import nltk\n",
    "from nltk import word_tokenize"
   ]
  },
  {
   "cell_type": "code",
   "execution_count": 26,
   "id": "cordless-diploma",
   "metadata": {},
   "outputs": [
    {
     "data": {
      "text/html": [
       "<div>\n",
       "<style scoped>\n",
       "    .dataframe tbody tr th:only-of-type {\n",
       "        vertical-align: middle;\n",
       "    }\n",
       "\n",
       "    .dataframe tbody tr th {\n",
       "        vertical-align: top;\n",
       "    }\n",
       "\n",
       "    .dataframe thead th {\n",
       "        text-align: right;\n",
       "    }\n",
       "</style>\n",
       "<table border=\"1\" class=\"dataframe\">\n",
       "  <thead>\n",
       "    <tr style=\"text-align: right;\">\n",
       "      <th></th>\n",
       "      <th>PageNumber</th>\n",
       "      <th>custom_f_1</th>\n",
       "    </tr>\n",
       "  </thead>\n",
       "  <tbody>\n",
       "    <tr>\n",
       "      <th>0</th>\n",
       "      <td>103</td>\n",
       "      <td>invernesskingsc ross virgineastcoast trailing ...</td>\n",
       "    </tr>\n",
       "    <tr>\n",
       "      <th>1</th>\n",
       "      <td>105</td>\n",
       "      <td>tower skyline canon square construction citysc...</td>\n",
       "    </tr>\n",
       "    <tr>\n",
       "      <th>2</th>\n",
       "      <td>108</td>\n",
       "      <td>building heritage history architecture cottage...</td>\n",
       "    </tr>\n",
       "    <tr>\n",
       "      <th>3</th>\n",
       "      <td>109</td>\n",
       "      <td>pufferfish twitter pufferball twittersphere sp...</td>\n",
       "    </tr>\n",
       "    <tr>\n",
       "      <th>4</th>\n",
       "      <td>110</td>\n",
       "      <td>scaffolding building builders hivis ibeams aut...</td>\n",
       "    </tr>\n",
       "    <tr>\n",
       "      <th>...</th>\n",
       "      <td>...</td>\n",
       "      <td>...</td>\n",
       "    </tr>\n",
       "    <tr>\n",
       "      <th>217</th>\n",
       "      <td>92</td>\n",
       "      <td>night lighttrails panorama night canon cycling...</td>\n",
       "    </tr>\n",
       "    <tr>\n",
       "      <th>218</th>\n",
       "      <td>93</td>\n",
       "      <td>landscape paisaje escocia edimburgo vegetaci g...</td>\n",
       "    </tr>\n",
       "    <tr>\n",
       "      <th>219</th>\n",
       "      <td>95</td>\n",
       "      <td>holyroodpark arthursseat holyroodpark building...</td>\n",
       "    </tr>\n",
       "    <tr>\n",
       "      <th>220</th>\n",
       "      <td>96</td>\n",
       "      <td>arthursseat holyroodpark nature landscape geol...</td>\n",
       "    </tr>\n",
       "    <tr>\n",
       "      <th>221</th>\n",
       "      <td>97</td>\n",
       "      <td>sunset landscape arthursseat holyroodpark suns...</td>\n",
       "    </tr>\n",
       "  </tbody>\n",
       "</table>\n",
       "<p>222 rows × 2 columns</p>\n",
       "</div>"
      ],
      "text/plain": [
       "    PageNumber                                         custom_f_1\n",
       "0          103  invernesskingsc ross virgineastcoast trailing ...\n",
       "1          105  tower skyline canon square construction citysc...\n",
       "2          108  building heritage history architecture cottage...\n",
       "3          109  pufferfish twitter pufferball twittersphere sp...\n",
       "4          110  scaffolding building builders hivis ibeams aut...\n",
       "..         ...                                                ...\n",
       "217         92  night lighttrails panorama night canon cycling...\n",
       "218         93  landscape paisaje escocia edimburgo vegetaci g...\n",
       "219         95  holyroodpark arthursseat holyroodpark building...\n",
       "220         96  arthursseat holyroodpark nature landscape geol...\n",
       "221         97  sunset landscape arthursseat holyroodpark suns...\n",
       "\n",
       "[222 rows x 2 columns]"
      ]
     },
     "execution_count": 26,
     "metadata": {},
     "output_type": "execute_result"
    }
   ],
   "source": [
    "df = pd.read_csv(\"grid_250m_newest_geocluster_round1.csv\")\n",
    "#group by grid cell number and then concatenate all tags\n",
    "df = df.astype(str).groupby('PageNumber')['custom_f_1'].apply(lambda x: ' '.join(x)).reset_index()\n",
    "\n",
    "#make sure all characters <3 and >15 are excluded\n",
    "df['custom_f_1'] = df['custom_f_1'].str.findall('\\w{4,15}').str.join(' ')\n",
    "\n",
    "tokenized_tags = df['custom_f_1'].astype(str).apply(nltk.word_tokenize)\n",
    "\n",
    "filter_words = ['wwwpoopmapeu','wwwpoopmapde','smcpentaxm','iansdigitalphot','italphotos','iansdigitalpho','flickrandroidap','camera','filter','none']\n",
    "df[\"custom_f_1\"] = [[t for t in tok_sent if t not in filter_words] for tok_sent in tokenized_tags]\n",
    "\n",
    "#convert list back to string\n",
    "df['custom_f_1'] = df['custom_f_1'].str.join(' ')\n",
    "\n",
    "df"
   ]
  },
  {
   "cell_type": "code",
   "execution_count": 28,
   "id": "applicable-carrier",
   "metadata": {},
   "outputs": [],
   "source": [
    "#create vectoriser - TdidfVectorizer normalises the tfidf values from 0-1\n",
    "#set use_idf to 'True' so that it actually calculates the IDF part of TF-IDF (otherwise it's just TF which is bloody confusing)\n",
    "#max_df = words that appear over 80% of entire corpus is missed out\n",
    "#min_df = miss out on words that appear less than 5 times in corpus\n",
    "# norm = 'l2' normalises the length of the documents to prepare for calculation (between two equal-length vectors) \n",
    "Vectorizer = TfidfVectorizer(lowercase = True, stop_words = 'english', use_idf = True, norm = 'l2')\n",
    "\n",
    "#Vectors = Vectorizer.fit_transform(df['lemmatised_tags'])\n",
    "\n",
    "#https://stackoverflow.com/questions/64743583/which-10-words-has-the-highest-tf-idf-value-in-each-document-total\n",
    "\n",
    "#finding top 10 tfidf tags per document\n",
    "X_tfidf = Vectorizer.fit_transform(df['custom_f_1'])\n",
    "#X_tfidf_array = X_tfidf.toarray()\n"
   ]
  },
  {
   "cell_type": "code",
   "execution_count": 29,
   "id": "numerical-estate",
   "metadata": {},
   "outputs": [
    {
     "name": "stdout",
     "output_type": "stream",
     "text": [
      "pairwise dense output:\n",
      " [[1.         0.59257914 0.02686447 ... 0.00473226 0.00244154 0.        ]\n",
      " [0.59257914 1.         0.03820431 ... 0.01953031 0.00520625 0.        ]\n",
      " [0.02686447 0.03820431 1.         ... 0.01120797 0.00312765 0.        ]\n",
      " ...\n",
      " [0.00473226 0.01953031 0.01120797 ... 1.         0.59346654 0.24788304]\n",
      " [0.00244154 0.00520625 0.00312765 ... 0.59346654 1.         0.23540379]\n",
      " [0.         0.         0.         ... 0.24788304 0.23540379 1.        ]]\n",
      "\n"
     ]
    }
   ],
   "source": [
    "#convert array to sparse matrix\n",
    "Vectors_sparse = sparse.csr_matrix(X_tfidf)\n",
    "\n",
    "similarities = cosine_similarity(Vectors_sparse)\n",
    "print('pairwise dense output:\\n {}\\n'.format(similarities))"
   ]
  },
  {
   "cell_type": "code",
   "execution_count": 30,
   "id": "stone-rebound",
   "metadata": {},
   "outputs": [
    {
     "name": "stdout",
     "output_type": "stream",
     "text": [
      "(222, 222)\n"
     ]
    }
   ],
   "source": [
    "#check shape to see if it's a matrix - and yes it is\n",
    "print(similarities.shape)\n",
    "\n",
    "list = similarities.tolist()\n",
    "cosine_similarity_matrix = pd.DataFrame(list)\n",
    "\n",
    "#cosine_similarity_matrix.to_csv(\"cosine_sim_matrix_250m_geocluster_1.csv\")"
   ]
  },
  {
   "cell_type": "markdown",
   "id": "classified-sapphire",
   "metadata": {},
   "source": [
    "This is useful and below code draws from it: https://stackoverflow.com/questions/12118720/python-tf-idf-cosine-to-find-document-similarity"
   ]
  }
 ],
 "metadata": {
  "kernelspec": {
   "display_name": "Python 3",
   "language": "python",
   "name": "python3"
  },
  "language_info": {
   "codemirror_mode": {
    "name": "ipython",
    "version": 3
   },
   "file_extension": ".py",
   "mimetype": "text/x-python",
   "name": "python",
   "nbconvert_exporter": "python",
   "pygments_lexer": "ipython3",
   "version": "3.8.8"
  }
 },
 "nbformat": 4,
 "nbformat_minor": 5
}
